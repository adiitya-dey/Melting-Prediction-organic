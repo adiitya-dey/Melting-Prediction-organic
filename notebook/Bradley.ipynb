{
 "cells": [
  {
   "cell_type": "code",
   "execution_count": 35,
   "id": "c013d4a1-4534-46cb-aa85-c77c4ef218e5",
   "metadata": {},
   "outputs": [],
   "source": [
    "import pandas as pd\n",
    "import numpy as np\n",
    "\n",
    "import warnings\n",
    "warnings.filterwarnings('ignore')"
   ]
  },
  {
   "cell_type": "code",
   "execution_count": 26,
   "id": "1e6ced07-52fe-446a-8bbc-888e73f5139f",
   "metadata": {},
   "outputs": [
    {
     "data": {
      "text/html": [
       "<div>\n",
       "<style scoped>\n",
       "    .dataframe tbody tr th:only-of-type {\n",
       "        vertical-align: middle;\n",
       "    }\n",
       "\n",
       "    .dataframe tbody tr th {\n",
       "        vertical-align: top;\n",
       "    }\n",
       "\n",
       "    .dataframe thead th {\n",
       "        text-align: right;\n",
       "    }\n",
       "</style>\n",
       "<table border=\"1\" class=\"dataframe\">\n",
       "  <thead>\n",
       "    <tr style=\"text-align: right;\">\n",
       "      <th></th>\n",
       "      <th>chemical_name</th>\n",
       "      <th>smiles</th>\n",
       "      <th>deg_Celcius</th>\n",
       "    </tr>\n",
       "    <tr>\n",
       "      <th>key</th>\n",
       "      <th></th>\n",
       "      <th></th>\n",
       "      <th></th>\n",
       "    </tr>\n",
       "  </thead>\n",
       "  <tbody>\n",
       "    <tr>\n",
       "      <th>1</th>\n",
       "      <td>2-(2,4-dinitrobenzyl)pyridine</td>\n",
       "      <td>c1ccnc(c1)Cc2ccc(cc2[N+](=O)[O-])[N+](=O)[O-]</td>\n",
       "      <td>92</td>\n",
       "    </tr>\n",
       "    <tr>\n",
       "      <th>2</th>\n",
       "      <td>2-(1-piperidinyl)aniline</td>\n",
       "      <td>c1ccc(c(c1)N)N2CCCCC2</td>\n",
       "      <td>46</td>\n",
       "    </tr>\n",
       "    <tr>\n",
       "      <th>3</th>\n",
       "      <td>2-(1-piperazinyl)pyrimidine</td>\n",
       "      <td>c1cnc(nc1)N2CCNCC2</td>\n",
       "      <td>33</td>\n",
       "    </tr>\n",
       "  </tbody>\n",
       "</table>\n",
       "</div>"
      ],
      "text/plain": [
       "                     chemical_name  \\\n",
       "key                                  \n",
       "1    2-(2,4-dinitrobenzyl)pyridine   \n",
       "2         2-(1-piperidinyl)aniline   \n",
       "3      2-(1-piperazinyl)pyrimidine   \n",
       "\n",
       "                                            smiles deg_Celcius  \n",
       "key                                                             \n",
       "1    c1ccnc(c1)Cc2ccc(cc2[N+](=O)[O-])[N+](=O)[O-]          92  \n",
       "2                            c1ccc(c(c1)N)N2CCCCC2          46  \n",
       "3                               c1cnc(nc1)N2CCNCC2          33  "
      ]
     },
     "execution_count": 26,
     "metadata": {},
     "output_type": "execute_result"
    }
   ],
   "source": [
    "raw = pd.read_csv(\"/Users/adityadey/Documents/Projects/meltingpoint/BradleyMeltingPointDataset/bradley-data.csv\", \n",
    "                  sep=';',\n",
    "                  names=['key', 'chemical_name','smiles','deg_Celcius','donotuse']\n",
    "                 ).set_index('key')\n",
    "\n",
    "raw = raw.iloc[:,:-1]\n",
    "raw.head(3)"
   ]
  },
  {
   "cell_type": "code",
   "execution_count": 36,
   "id": "240ab105-e39b-4955-a962-7b364409e322",
   "metadata": {},
   "outputs": [
    {
     "name": "stdout",
     "output_type": "stream",
     "text": [
      "Total number of rows: (22899, 3)\n",
      "Total number of unique value count per column:\n",
      "chemical_name    22899\n",
      "smiles           22899\n",
      "deg_Celcius       1756\n",
      "dtype: int64\n"
     ]
    }
   ],
   "source": [
    "# Drop duplicates in chemical name and smiles.\n",
    "\n",
    "df1 = raw.drop_duplicates(subset= ['chemical_name'])\n",
    "df2 = df1.drop_duplicates(subset=['smiles'])\n",
    "print(f'Total number of rows: {df2.shape}')\n",
    "print(f'Total number of unique value count per column:\\n{df2.nunique()}')"
   ]
  },
  {
   "cell_type": "code",
   "execution_count": 37,
   "id": "6d7619a7-6255-44d5-8b1c-0e048b85b2cb",
   "metadata": {},
   "outputs": [
    {
     "data": {
      "text/plain": [
       "chemical_name    0\n",
       "smiles           0\n",
       "deg_Celcius      0\n",
       "dtype: int64"
      ]
     },
     "execution_count": 37,
     "metadata": {},
     "output_type": "execute_result"
    }
   ],
   "source": [
    "df2.isna().sum()"
   ]
  },
  {
   "cell_type": "code",
   "execution_count": 38,
   "id": "d2d565c9-5817-4113-96d8-6b8da8bb7947",
   "metadata": {},
   "outputs": [
    {
     "name": "stdout",
     "output_type": "stream",
     "text": [
      "<class 'pandas.core.frame.DataFrame'>\n",
      "Index: 22899 entries, 1 to 28645\n",
      "Data columns (total 3 columns):\n",
      " #   Column         Non-Null Count  Dtype \n",
      "---  ------         --------------  ----- \n",
      " 0   chemical_name  22899 non-null  object\n",
      " 1   smiles         22899 non-null  object\n",
      " 2   deg_Celcius    22899 non-null  object\n",
      "dtypes: object(3)\n",
      "memory usage: 715.6+ KB\n"
     ]
    }
   ],
   "source": [
    "df2.info()"
   ]
  },
  {
   "cell_type": "code",
   "execution_count": 39,
   "id": "a25dbade-6eb1-40c2-96b9-b8d2da09de84",
   "metadata": {},
   "outputs": [],
   "source": [
    "df2.chemical_name = df2.chemical_name.astype(str)\n",
    "df2.smiles = df2.smiles.astype(str)\n",
    "df2.deg_Celcius = df2.deg_Celcius.str.replace(',','.').astype(float)"
   ]
  },
  {
   "cell_type": "code",
   "execution_count": 40,
   "id": "2d3dcae3-47dc-46b1-ae73-a9daaa6ebc81",
   "metadata": {},
   "outputs": [
    {
     "name": "stdout",
     "output_type": "stream",
     "text": [
      "<class 'pandas.core.frame.DataFrame'>\n",
      "Index: 22899 entries, 1 to 28645\n",
      "Data columns (total 3 columns):\n",
      " #   Column         Non-Null Count  Dtype  \n",
      "---  ------         --------------  -----  \n",
      " 0   chemical_name  22899 non-null  object \n",
      " 1   smiles         22899 non-null  object \n",
      " 2   deg_Celcius    22899 non-null  float64\n",
      "dtypes: float64(1), object(2)\n",
      "memory usage: 715.6+ KB\n"
     ]
    }
   ],
   "source": [
    "df2.info()"
   ]
  },
  {
   "cell_type": "code",
   "execution_count": null,
   "id": "e6b9de50-0bd2-4076-bfd1-b043ebcb9198",
   "metadata": {},
   "outputs": [],
   "source": []
  }
 ],
 "metadata": {
  "kernelspec": {
   "display_name": "Python 3 (ipykernel)",
   "language": "python",
   "name": "python3"
  },
  "language_info": {
   "codemirror_mode": {
    "name": "ipython",
    "version": 3
   },
   "file_extension": ".py",
   "mimetype": "text/x-python",
   "name": "python",
   "nbconvert_exporter": "python",
   "pygments_lexer": "ipython3",
   "version": "3.11.5"
  }
 },
 "nbformat": 4,
 "nbformat_minor": 5
}
